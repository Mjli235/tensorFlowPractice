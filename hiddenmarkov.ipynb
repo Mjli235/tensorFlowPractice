{
 "cells": [
  {
   "cell_type": "code",
   "execution_count": 3,
   "metadata": {},
   "outputs": [],
   "source": [
    "import pandas as pd\n",
    "import tensorflow as tf\n",
    "import tensorflow_probability as tpf\n",
    "\n",
    "tfd = tpf.distributions\n",
    "initial_distribution = tfd.Categorical(probs=[0.8, 0.2])\n",
    "transistion_distribution = tfd.Categorical(probs=[[0.7, 0.3], [0.2, 0.8]])\n",
    "\n",
    "observation_distribution = tfd.Normal(loc=[0., 15.], scale=[.5, 10.])"
   ]
  },
  {
   "cell_type": "code",
   "execution_count": null,
   "metadata": {},
   "outputs": [],
   "source": [
    "model = tfd.HiddenMarkovModel(\n",
    "    initial_distribution=initial_distribution,\n",
    "    transistion_distribution=transistion_distribution,\n",
    "    observation_distribution=observation_distribution,\n",
    "    num_steps = 7\n",
    ")"
   ]
  }
 ],
 "metadata": {
  "kernelspec": {
   "display_name": "spyder-env",
   "language": "python",
   "name": "python3"
  },
  "language_info": {
   "codemirror_mode": {
    "name": "ipython",
    "version": 3
   },
   "file_extension": ".py",
   "mimetype": "text/x-python",
   "name": "python",
   "nbconvert_exporter": "python",
   "pygments_lexer": "ipython3",
   "version": "3.10.9"
  },
  "orig_nbformat": 4
 },
 "nbformat": 4,
 "nbformat_minor": 2
}
